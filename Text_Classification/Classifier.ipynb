{
 "cells": [
  {
   "cell_type": "code",
   "execution_count": 1,
   "metadata": {
    "colab": {
     "base_uri": "https://localhost:8080/",
     "height": 121
    },
    "colab_type": "code",
    "id": "b9sM-P9uSWHc",
    "outputId": "97890bb9-bed4-4e75-c31f-7b71e270b2e6"
   },
   "outputs": [
    {
     "name": "stdout",
     "output_type": "stream",
     "text": [
      "Go to this URL in a browser: https://accounts.google.com/o/oauth2/auth?client_id=947318989803-6bn6qk8qdgf4n4g3pfee6491hc0brc4i.apps.googleusercontent.com&redirect_uri=urn%3aietf%3awg%3aoauth%3a2.0%3aoob&response_type=code&scope=email%20https%3a%2f%2fwww.googleapis.com%2fauth%2fdocs.test%20https%3a%2f%2fwww.googleapis.com%2fauth%2fdrive%20https%3a%2f%2fwww.googleapis.com%2fauth%2fdrive.photos.readonly%20https%3a%2f%2fwww.googleapis.com%2fauth%2fpeopleapi.readonly\n",
      "\n",
      "Enter your authorization code:\n",
      "··········\n",
      "Mounted at /content/drive\n"
     ]
    }
   ],
   "source": [
    "from google.colab import drive\n",
    "drive.mount(\"/content/drive\")"
   ]
  },
  {
   "cell_type": "code",
   "execution_count": 3,
   "metadata": {
    "colab": {},
    "colab_type": "code",
    "id": "FZxa2fM8SNsy"
   },
   "outputs": [],
   "source": [
    "import re\n",
    "import nltk\n",
    "import torch   \n",
    "import spacy\n",
    "import torch\n",
    "import string\n",
    "import pandas as pd\n",
    "import torch.nn as nn\n",
    "from torchtext import data\n",
    "import torch.optim as optim \n",
    "import torchtext.data as data\n",
    "from nltk.corpus import stopwords \n",
    "from nltk.tokenize import word_tokenize"
   ]
  },
  {
   "cell_type": "code",
   "execution_count": 6,
   "metadata": {
    "colab": {},
    "colab_type": "code",
    "id": "uQpe01hnUECE"
   },
   "outputs": [],
   "source": [
    "\n",
    "df = pd.read_csv(\"small.csv\",header=None)"
   ]
  },
  {
   "cell_type": "code",
   "execution_count": 7,
   "metadata": {
    "colab": {},
    "colab_type": "code",
    "id": "Xb1SQ8PUSmYz"
   },
   "outputs": [],
   "source": [
    "df_new = df.rename(columns={0: 'Text',1:\"Label\"})"
   ]
  },
  {
   "cell_type": "code",
   "execution_count": 8,
   "metadata": {
    "colab": {},
    "colab_type": "code",
    "id": "JYzCcaw7Un6S"
   },
   "outputs": [],
   "source": [
    "df_new.to_csv(\"dataset.csv\",encoding=\"utf-8-sig\")"
   ]
  },
  {
   "cell_type": "code",
   "execution_count": 9,
   "metadata": {
    "colab": {
     "base_uri": "https://localhost:8080/",
     "height": 50
    },
    "colab_type": "code",
    "id": "2uKr-uJgZuKh",
    "outputId": "306e15b0-ef5d-491e-a554-0763a7798b8e"
   },
   "outputs": [
    {
     "name": "stdout",
     "output_type": "stream",
     "text": [
      "[nltk_data] Downloading package stopwords to /root/nltk_data...\n",
      "[nltk_data]   Unzipping corpora/stopwords.zip.\n"
     ]
    }
   ],
   "source": [
    "\n",
    "nltk.download('stopwords')\n",
    "stop_words = set(stopwords.words('turkish') + [\"bir\",\"in\",\"nın\",\"dedi\",\",\",\"nin\",\"de\",\"olarak\",\"ın\",\"\\'\",\"ilk\",\"olan\",\"olarak\",\"son\",\"’\",\"a\",\"sonra\",\"var\",\"kadar\",\"göre\"]) \n",
    "\n",
    "def tokenize (text):\n",
    "    text = text.replace(\"\\\\\",\"/\")\n",
    "    text = text.replace(\"./\",\"/content/\")\n",
    "    text = open(text,\"r\",encoding=\"utf-8\").readlines()\n",
    "    text  = ' '.join(map(str, text)) \n",
    "    regex = re.compile('[' + re.escape(string.punctuation) + '0-9\\\\r\\\\t\\\\n]')\n",
    "    nopunct = regex.sub(\" \", text.lower())\n",
    "    word_tokens = word_tokenize(nopunct) \n",
    "    filtered_sentence = [w for w in word_tokens if not w in stop_words]   \n",
    "    return filtered_sentence"
   ]
  },
  {
   "cell_type": "code",
   "execution_count": null,
   "metadata": {
    "colab": {},
    "colab_type": "code",
    "id": "zo2MSdxkSNs6"
   },
   "outputs": [],
   "source": []
  },
  {
   "cell_type": "code",
   "execution_count": 10,
   "metadata": {
    "colab": {},
    "colab_type": "code",
    "id": "Xwg5_HyOSNs-"
   },
   "outputs": [],
   "source": [
    "TEXT = data.Field(tokenize=tokenize,batch_first=True,include_lengths=True)\n",
    "LABEL = data.LabelField(dtype = torch.float,batch_first=True)"
   ]
  },
  {
   "cell_type": "code",
   "execution_count": 11,
   "metadata": {
    "colab": {},
    "colab_type": "code",
    "id": "sXTXONkLSNtD"
   },
   "outputs": [],
   "source": [
    "fields = [(None, None), ('text',TEXT),('label', LABEL)]"
   ]
  },
  {
   "cell_type": "code",
   "execution_count": 12,
   "metadata": {
    "colab": {
     "base_uri": "https://localhost:8080/",
     "height": 50
    },
    "colab_type": "code",
    "id": "V6vgBPSeSNtG",
    "outputId": "2d3d9826-9b1d-4665-9900-df2c8ca41d57"
   },
   "outputs": [
    {
     "name": "stdout",
     "output_type": "stream",
     "text": [
      "[nltk_data] Downloading package punkt to /root/nltk_data...\n",
      "[nltk_data]   Unzipping tokenizers/punkt.zip.\n"
     ]
    }
   ],
   "source": [
    "nltk.download('punkt')\n",
    "training_data=data.TabularDataset(path = 'dataset.csv',format = 'csv',fields = fields,skip_header = True)"
   ]
  },
  {
   "cell_type": "code",
   "execution_count": null,
   "metadata": {
    "colab": {},
    "colab_type": "code",
    "id": "u3Y-dlEzWgQA"
   },
   "outputs": [],
   "source": []
  },
  {
   "cell_type": "code",
   "execution_count": 13,
   "metadata": {
    "colab": {},
    "colab_type": "code",
    "id": "OaKXydHgSNtK"
   },
   "outputs": [],
   "source": [
    "import random\n",
    "train_data, valid_data = training_data.split(split_ratio=0.85, random_state = random.seed(42))"
   ]
  },
  {
   "cell_type": "code",
   "execution_count": 14,
   "metadata": {
    "colab": {
     "base_uri": "https://localhost:8080/",
     "height": 1000
    },
    "colab_type": "code",
    "id": "AIX4K5h-Zgqs",
    "outputId": "665b5b7a-194d-412f-be26-884014701773"
   },
   "outputs": [
    {
     "data": {
      "text/plain": [
       "{'label': 'spor',\n",
       " 'text': ['fenerbahçeli',\n",
       "  'alex',\n",
       "  'olmak',\n",
       "  'istiyor',\n",
       "  'acıbadem',\n",
       "  'bayanlar',\n",
       "  'voleybol',\n",
       "  'ligi',\n",
       "  'ekiplerinden',\n",
       "  'fenerbahçe',\n",
       "  'güney',\n",
       "  'koreli',\n",
       "  'milli',\n",
       "  'oyuncusu',\n",
       "  'yeon',\n",
       "  'koung',\n",
       "  'sarı',\n",
       "  'lacivertli',\n",
       "  'takımın',\n",
       "  'unutulmaz',\n",
       "  'futbolcularından',\n",
       "  'alex',\n",
       "  'uzun',\n",
       "  'yıllar',\n",
       "  'takımında',\n",
       "  'forma',\n",
       "  'giymek',\n",
       "  'istediğini',\n",
       "  'söyledi',\n",
       "  'koung',\n",
       "  'kendisine',\n",
       "  'yapılan',\n",
       "  'voleybol',\n",
       "  'takımının',\n",
       "  'alex',\n",
       "  'i',\n",
       "  'yakıştırması',\n",
       "  'ilgili',\n",
       "  'alex',\n",
       "  'fenerbahçe',\n",
       "  'yıl',\n",
       "  'uzun',\n",
       "  'zaman',\n",
       "  'futbol',\n",
       "  'oynadı',\n",
       "  'ben',\n",
       "  'sadece',\n",
       "  'yıldır',\n",
       "  'takımda',\n",
       "  'forma',\n",
       "  'giyiyorum',\n",
       "  'sözü',\n",
       "  'hak',\n",
       "  'etmek',\n",
       "  'henüz',\n",
       "  'erken',\n",
       "  'tabii',\n",
       "  'ben',\n",
       "  'alex',\n",
       "  'uzun',\n",
       "  'yıllar',\n",
       "  'fenerbahçe',\n",
       "  'forma',\n",
       "  'giymek',\n",
       "  'istiyorum',\n",
       "  'fenerbahçe',\n",
       "  'yi',\n",
       "  'seviyorum',\n",
       "  'konuştu',\n",
       "  'güney',\n",
       "  'kore',\n",
       "  'japonya',\n",
       "  'dan',\n",
       "  'voleybolcuların',\n",
       "  'türkiye',\n",
       "  'ye',\n",
       "  'gelip',\n",
       "  'forma',\n",
       "  'giymesiyle',\n",
       "  'ilgili',\n",
       "  'soruyu',\n",
       "  'yanıtlayan',\n",
       "  'yıldız',\n",
       "  'oyuncu',\n",
       "  'şunları',\n",
       "  'söyledi',\n",
       "  'türkleri',\n",
       "  'seviyorum',\n",
       "  'türkiye',\n",
       "  'güney',\n",
       "  'kore',\n",
       "  'arasında',\n",
       "  'güzel',\n",
       "  'bağlantılar',\n",
       "  'güzel',\n",
       "  'ilişkiler',\n",
       "  'açısından',\n",
       "  'burada',\n",
       "  'oynamam',\n",
       "  'iyi',\n",
       "  'sonuçta',\n",
       "  'bizler',\n",
       "  'profesyonel',\n",
       "  'oyuncularız',\n",
       "  'yerde',\n",
       "  'oynayabiliriz',\n",
       "  'türkiye',\n",
       "  'ye',\n",
       "  'gelip',\n",
       "  'voleybol',\n",
       "  'oynamak',\n",
       "  'büyük',\n",
       "  'mutluluk',\n",
       "  'asya',\n",
       "  'avrupa',\n",
       "  'farklı',\n",
       "  'voleybol',\n",
       "  'kültürü',\n",
       "  'ekolde',\n",
       "  'yeni',\n",
       "  'öğreniyoruz',\n",
       "  'voleybolcular',\n",
       "  'faydalı',\n",
       "  'durum',\n",
       "  'an',\n",
       "  'iyi',\n",
       "  'durumda',\n",
       "  'değiliz',\n",
       "  'fenerbahçe',\n",
       "  'ligdeki',\n",
       "  'durumunu',\n",
       "  'değerlendiren',\n",
       "  'güney',\n",
       "  'koreli',\n",
       "  'oyuncu',\n",
       "  'takım',\n",
       "  'henüz',\n",
       "  'istedikleri',\n",
       "  'seviyede',\n",
       "  'olmadıklarını',\n",
       "  'ancak',\n",
       "  'ikinci',\n",
       "  'yarıyla',\n",
       "  'birlikte',\n",
       "  'toparlanacaklarını',\n",
       "  'dile',\n",
       "  'getirdi',\n",
       "  'lige',\n",
       "  'istedikleri',\n",
       "  'başlayamadıklarını',\n",
       "  'vurgulayan',\n",
       "  'yeon',\n",
       "  'koung',\n",
       "  'diğer',\n",
       "  'rakiplerimizin',\n",
       "  'gerisindeyiz',\n",
       "  'ancak',\n",
       "  'hazırlıklarımızı',\n",
       "  'sürdürüyoruz',\n",
       "  'toparlanıp',\n",
       "  'ikinci',\n",
       "  'yarıda',\n",
       "  'iyisini',\n",
       "  'yapmayı',\n",
       "  'amaçlıyoruz',\n",
       "  'i̇yi',\n",
       "  'çalışarak',\n",
       "  'kendimizi',\n",
       "  'geliştirmeyi',\n",
       "  'arzuladığımız',\n",
       "  'yerlere',\n",
       "  'gelmeyi',\n",
       "  'planlıyoruz',\n",
       "  'şeklinde',\n",
       "  'konuştu',\n",
       "  'yeon',\n",
       "  'koung',\n",
       "  'acıbadem',\n",
       "  'bayanlar',\n",
       "  'voleybol',\n",
       "  'ligi',\n",
       "  'nde',\n",
       "  'büyük',\n",
       "  'rakipleri',\n",
       "  'şampiyonlar',\n",
       "  'ligi',\n",
       "  'nde',\n",
       "  'mücadele',\n",
       "  'eden',\n",
       "  'vakıfbank',\n",
       "  'eczacıbaşı',\n",
       "  'vitra',\n",
       "  'galatasaray',\n",
       "  'daikin',\n",
       "  'takımlarının',\n",
       "  'aksine',\n",
       "  'kendilerinin',\n",
       "  'cev',\n",
       "  'kupası',\n",
       "  'nda',\n",
       "  'yer',\n",
       "  'almalarının',\n",
       "  'dezavantaj',\n",
       "  'olmadığını',\n",
       "  'söyledi',\n",
       "  'şampiyonlar',\n",
       "  'ligi',\n",
       "  'nde',\n",
       "  'yer',\n",
       "  'almamalarının',\n",
       "  'üzüntü',\n",
       "  'verici',\n",
       "  'olduğunu',\n",
       "  'anlatan',\n",
       "  'güney',\n",
       "  'koreli',\n",
       "  'oyuncu',\n",
       "  'cev',\n",
       "  'kupası',\n",
       "  'sonuçta',\n",
       "  'önemli',\n",
       "  'organizasyon',\n",
       "  'kupayı',\n",
       "  'almayı',\n",
       "  'hedefliyoruz',\n",
       "  'sezon',\n",
       "  'sonunda',\n",
       "  'ligde',\n",
       "  'şampiyon',\n",
       "  'yeniden',\n",
       "  'şampiyonlar',\n",
       "  'ligi',\n",
       "  'katılmalıyız',\n",
       "  'diyerek',\n",
       "  'sözlerini',\n",
       "  'tamamladı']}"
      ]
     },
     "execution_count": 14,
     "metadata": {
      "tags": []
     },
     "output_type": "execute_result"
    }
   ],
   "source": [
    "vars(train_data.examples[42])"
   ]
  },
  {
   "cell_type": "code",
   "execution_count": 15,
   "metadata": {
    "colab": {
     "base_uri": "https://localhost:8080/",
     "height": 34
    },
    "colab_type": "code",
    "id": "DxJMyXV3SNtN",
    "outputId": "bcb47667-6fd0-4e13-ea93-e3e9a6695afd"
   },
   "outputs": [
    {
     "name": "stdout",
     "output_type": "stream",
     "text": [
      "[('türkiye', 17709), ('yüzde', 12377), ('olduğunu', 11500), ('büyük', 11194), ('bin', 10831), ('yeni', 10399), ('oldu', 9278), ('söyledi', 8860), ('iyi', 8835), ('milyon', 8648)]\n"
     ]
    }
   ],
   "source": [
    "TEXT.build_vocab(train_data,min_freq=3)  \n",
    "LABEL.build_vocab(train_data)\n",
    "\n",
    "print(TEXT.vocab.freqs.most_common(10))  "
   ]
  },
  {
   "cell_type": "code",
   "execution_count": 16,
   "metadata": {
    "colab": {},
    "colab_type": "code",
    "id": "jv0Of7xkSNtR"
   },
   "outputs": [],
   "source": [
    "device = torch.device('cuda')  \n",
    "BATCH_SIZE = 64\n",
    "\n",
    "train_iterator, valid_iterator = data.BucketIterator.splits(\n",
    "    (train_data, valid_data), \n",
    "    batch_size = BATCH_SIZE,\n",
    "    sort_key = lambda x: len(x.text),\n",
    "    sort_within_batch=True,\n",
    "    device = device)"
   ]
  },
  {
   "cell_type": "code",
   "execution_count": 17,
   "metadata": {
    "colab": {},
    "colab_type": "code",
    "id": "15MwI6ffSNtU"
   },
   "outputs": [],
   "source": [
    "class LSTM_(torch.nn.Module) :\n",
    "    def __init__(self, vocab_size, embedding_dim, hidden_dim) :\n",
    "        super().__init__()\n",
    "        self.embeddings = nn.Embedding(vocab_size, embedding_dim, padding_idx=0)\n",
    "        self.lstm = nn.LSTM(embedding_dim, hidden_dim, batch_first=True)\n",
    "        self.linear = nn.Linear(hidden_dim, 64)\n",
    "        self.out = nn.Linear(64, 7)\n",
    "        self.dropout = nn.Dropout(0.2)\n",
    "        \n",
    "    def forward(self, x, l):\n",
    "        x = self.embeddings(x)\n",
    "        x = self.dropout(x)\n",
    "        lstm_out, (ht, ct) = self.lstm(x)\n",
    "        x = self.linear(ht[-1])\n",
    "        return self.out(x)\n",
    "      "
   ]
  },
  {
   "cell_type": "code",
   "execution_count": 18,
   "metadata": {
    "colab": {},
    "colab_type": "code",
    "id": "OZ0Yba4oSNtX"
   },
   "outputs": [],
   "source": [
    "size_of_vocab = len(TEXT.vocab)\n",
    "embedding_dim = 100\n",
    "num_hidden_nodes = 128\n",
    "num_layers = 2\n",
    "bidirection = True\n",
    "dropout = 0.2\n",
    "\n",
    "model = LSTM_(size_of_vocab, embedding_dim, num_hidden_nodes)"
   ]
  },
  {
   "cell_type": "code",
   "execution_count": 19,
   "metadata": {
    "colab": {},
    "colab_type": "code",
    "id": "FAYKW0CNSNta"
   },
   "outputs": [],
   "source": [
    "device=\"cuda\"\n",
    "optimizer = optim.Adam(model.parameters())\n",
    "criterion = nn.CrossEntropyLoss()\n",
    "model = model.to(device)\n",
    "criterion = criterion.to(device)"
   ]
  },
  {
   "cell_type": "code",
   "execution_count": 20,
   "metadata": {
    "colab": {},
    "colab_type": "code",
    "id": "lwfqJbvIcgoP"
   },
   "outputs": [],
   "source": [
    "def test(model, iterator, optimizer, criterion):\n",
    "    train_total = 0\n",
    "    train_correct=0\n",
    "    model.eval()  \n",
    "    \n",
    "    for batch in iterator:\n",
    "        optimizer.zero_grad()   \n",
    "        \n",
    "        text, text_lengths = batch.text   \n",
    "        text = text.long()\n",
    "        text_lengths=text_lengths.long()\n",
    "        predictions = model(text, text_lengths).squeeze()  \n",
    "        train_total += batch.label.size(0)\n",
    "        _,preds = torch.max(predictions,1)\n",
    "        train_correct += (preds == batch.label).sum().item()   \n",
    "        \n",
    "    return train_correct / train_total\n"
   ]
  },
  {
   "cell_type": "code",
   "execution_count": 21,
   "metadata": {
    "colab": {
     "base_uri": "https://localhost:8080/",
     "height": 397
    },
    "colab_type": "code",
    "id": "tjk-Vj8_SNtd",
    "outputId": "2b7c7cd5-ad78-474d-d4d5-ea232cd1be30"
   },
   "outputs": [
    {
     "name": "stdout",
     "output_type": "stream",
     "text": [
      "1.6031135291625291 0.4013971414806488\n",
      "1.38912507830522 0.4867512445800546\n",
      "1.0205904121582325 0.6190380600610246\n",
      "0.8357728541661531 0.6908222257909106\n",
      "0.6870141189067792 0.7472298056849205\n",
      "0.5727273552845686 0.7919543921631604\n",
      "0.4842470232110757 0.8250361329693271\n",
      "0.4125360415149958 0.8504496547294043\n",
      "0.35587274111234224 0.8719688453508913\n",
      "0.29546607331587715 0.8960976393126706\n"
     ]
    },
    {
     "ename": "KeyboardInterrupt",
     "evalue": "ignored",
     "output_type": "error",
     "traceback": [
      "\u001b[0;31m---------------------------------------------------------------------------\u001b[0m",
      "\u001b[0;31mKeyboardInterrupt\u001b[0m                         Traceback (most recent call last)",
      "\u001b[0;32m<ipython-input-21-b0350ad46cf7>\u001b[0m in \u001b[0;36m<module>\u001b[0;34m()\u001b[0m\n\u001b[1;32m     23\u001b[0m \u001b[0;34m\u001b[0m\u001b[0m\n\u001b[1;32m     24\u001b[0m         \u001b[0moptimizer\u001b[0m\u001b[0;34m.\u001b[0m\u001b[0mstep\u001b[0m\u001b[0;34m(\u001b[0m\u001b[0;34m)\u001b[0m\u001b[0;34m\u001b[0m\u001b[0;34m\u001b[0m\u001b[0m\n\u001b[0;32m---> 25\u001b[0;31m         \u001b[0mepoch_loss\u001b[0m \u001b[0;34m+=\u001b[0m \u001b[0mloss\u001b[0m\u001b[0;34m.\u001b[0m\u001b[0mitem\u001b[0m\u001b[0;34m(\u001b[0m\u001b[0;34m)\u001b[0m\u001b[0;34m\u001b[0m\u001b[0;34m\u001b[0m\u001b[0m\n\u001b[0m\u001b[1;32m     26\u001b[0m         \u001b[0mtrain_total\u001b[0m \u001b[0;34m+=\u001b[0m \u001b[0mbatch\u001b[0m\u001b[0;34m.\u001b[0m\u001b[0mlabel\u001b[0m\u001b[0;34m.\u001b[0m\u001b[0msize\u001b[0m\u001b[0;34m(\u001b[0m\u001b[0;36m0\u001b[0m\u001b[0;34m)\u001b[0m\u001b[0;34m\u001b[0m\u001b[0;34m\u001b[0m\u001b[0m\n\u001b[1;32m     27\u001b[0m         \u001b[0m_\u001b[0m\u001b[0;34m,\u001b[0m\u001b[0mpreds\u001b[0m \u001b[0;34m=\u001b[0m \u001b[0mtorch\u001b[0m\u001b[0;34m.\u001b[0m\u001b[0mmax\u001b[0m\u001b[0;34m(\u001b[0m\u001b[0mpredictions\u001b[0m\u001b[0;34m,\u001b[0m\u001b[0;36m1\u001b[0m\u001b[0;34m)\u001b[0m\u001b[0;34m\u001b[0m\u001b[0;34m\u001b[0m\u001b[0m\n",
      "\u001b[0;31mKeyboardInterrupt\u001b[0m: "
     ]
    }
   ],
   "source": [
    "N_EPOCHS = 16\n",
    "\n",
    "train_hist = []\n",
    "test_hist = []\n",
    "loss_hist = []\n",
    "\n",
    "for epoch in range(N_EPOCHS):\n",
    "    epoch_loss = 0\n",
    "    epoch_acc = 0\n",
    "    train_total = 0\n",
    "    train_correct=0\n",
    "    model.train()  \n",
    "\n",
    "    for batch in train_iterator:\n",
    "\n",
    "        optimizer.zero_grad()   \n",
    "        text, text_lengths = batch.text   \n",
    "        text = text.long()\n",
    "        text_lengths=text_lengths.long()\n",
    "        predictions = model(text, text_lengths).squeeze()  \n",
    "        loss = criterion(predictions, batch.label.long())        \n",
    "        loss.backward()       \n",
    "        \n",
    "        optimizer.step()      \n",
    "        epoch_loss += loss.item()  \n",
    "        train_total += batch.label.size(0)\n",
    "        _,preds = torch.max(predictions,1)\n",
    "        train_correct += (preds == batch.label).sum().item()   \n",
    "    train_acc = train_correct / train_total\n",
    "    test_acc = test(model,valid_iterator,optimizer,criterion)\n",
    "    train_hist.append(train_acc)\n",
    "    test_hist.append(test_acc)\n",
    "    loss_hist.append(epoch_loss / len(train_iterator))\n",
    "    print( epoch_loss / len(train_iterator), train_acc)\n"
   ]
  },
  {
   "cell_type": "code",
   "execution_count": 29,
   "metadata": {
    "colab": {},
    "colab_type": "code",
    "id": "8CN0Kw-YSNtm"
   },
   "outputs": [],
   "source": [
    "model.eval()  \n",
    "\n",
    "p = []\n",
    "l = []\n",
    "    \n",
    "for batch in valid_iterator:\n",
    "    text, text_lengths = batch.text   \n",
    "    text = text.long()\n",
    "    text_lengths=text_lengths.long()\n",
    "    predictions = model(text, text_lengths).squeeze()  \n",
    "    train_total += batch.label.size(0)\n",
    "    _,preds = torch.max(predictions,1)\n",
    "    for i in preds:\n",
    "      p.append(i.item())\n",
    "    for i in batch.label:\n",
    "      l.append(i.item())\n",
    "    train_correct += (preds == batch.label).sum().item()   "
   ]
  },
  {
   "cell_type": "code",
   "execution_count": 32,
   "metadata": {
    "colab": {},
    "colab_type": "code",
    "id": "vTO2vacJcgSG"
   },
   "outputs": [],
   "source": [
    "import numpy as np\n",
    "p = np.array(p)\n",
    "l = np.array(l)"
   ]
  },
  {
   "cell_type": "code",
   "execution_count": 33,
   "metadata": {
    "colab": {},
    "colab_type": "code",
    "id": "XcGcQzOv6jRl"
   },
   "outputs": [],
   "source": [
    "from sklearn.metrics import confusion_matrix\n",
    "cm = confusion_matrix(l, p)"
   ]
  },
  {
   "cell_type": "code",
   "execution_count": 41,
   "metadata": {
    "colab": {
     "base_uri": "https://localhost:8080/",
     "height": 295
    },
    "colab_type": "code",
    "id": "MUx8UXomfTgH",
    "outputId": "405ec4eb-835e-427b-ea4f-cd742410a6cb"
   },
   "outputs": [
    {
     "data": {
      "image/png": "[encoded data removed]",
      "text/plain": [
       "<Figure size 432x288 with 2 Axes>"
      ]
     },
     "metadata": {
      "needs_background": "light",
      "tags": []
     },
     "output_type": "display_data"
    }
   ],
   "source": [
    "import seaborn as sns\n",
    "import matplotlib.pyplot as plt     \n",
    "\n",
    "ax= plt.subplot()\n",
    "sns.heatmap(cm, ax = ax); #annot=True to annotate cells\n",
    "\n",
    "# labels, title and ticks\n",
    "ax.set_xlabel('Predicted labels');ax.set_ylabel('True labels'); \n",
    "ax.set_title('Confusion Matrix'); \n",
    "ax.xaxis.set_ticklabels(['dunya', 'ekonomi',\"genel\",\"magazin\",\"saglik\",\"spor\",\"türkiye\"]); ax.yaxis.set_ticklabels(['dunya', 'ekonomi',\"genel\",\"magazin\",\"saglik\",\"spor\",\"türkiye\"]);"
   ]
  }
 ],
 "metadata": {
  "accelerator": "GPU",
  "colab": {
   "name": "Untitled9.ipynb",
   "provenance": []
  },
  "kernelspec": {
   "display_name": "PyTorch",
   "language": "python",
   "name": "pytorch"
  },
  "language_info": {
   "codemirror_mode": {
    "name": "ipython",
    "version": 3
   },
   "file_extension": ".py",
   "mimetype": "text/x-python",
   "name": "python",
   "nbconvert_exporter": "python",
   "pygments_lexer": "ipython3",
   "version": "3.6.9"
  }
 },
 "nbformat": 4,
 "nbformat_minor": 1
}
